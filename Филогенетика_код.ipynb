{
  "nbformat": 4,
  "nbformat_minor": 0,
  "metadata": {
    "colab": {
      "provenance": [],
      "authorship_tag": "ABX9TyNnf3Kj1JmE66tVmWlMmMPn",
      "include_colab_link": true
    },
    "kernelspec": {
      "name": "python3",
      "display_name": "Python 3"
    },
    "language_info": {
      "name": "python"
    }
  },
  "cells": [
    {
      "cell_type": "markdown",
      "metadata": {
        "id": "view-in-github",
        "colab_type": "text"
      },
      "source": [
        "<a href=\"https://colab.research.google.com/github/hlepushe/Phylogenetics/blob/main/%D0%A4%D0%B8%D0%BB%D0%BE%D0%B3%D0%B5%D0%BD%D0%B5%D1%82%D0%B8%D0%BA%D0%B0_%D0%94%D0%971.ipynb\" target=\"_parent\"><img src=\"https://colab.research.google.com/assets/colab-badge.svg\" alt=\"Open In Colab\"/></a>"
      ]
    },
    {
      "cell_type": "code",
      "source": [
        "%%capture\n",
        "! pip install Bio;"
      ],
      "metadata": {
        "id": "d68jj-kFb-Pk"
      },
      "execution_count": 1,
      "outputs": []
    },
    {
      "cell_type": "markdown",
      "source": [
        "1. Запрос нуклеотидных последовательностей по названию гена и организму с возвратом XML:"
      ],
      "metadata": {
        "id": "Pn4SzzBDbpz9"
      }
    },
    {
      "cell_type": "code",
      "execution_count": 5,
      "metadata": {
        "colab": {
          "base_uri": "https://localhost:8080/"
        },
        "id": "ZWOSi3r0biDl",
        "outputId": "6256fa67-c3e0-43ac-bc3f-6faf173bb3ad"
      },
      "outputs": [
        {
          "output_type": "stream",
          "name": "stdout",
          "text": [
            "b'<?xml version=\"1.0\" encoding=\"UTF-8\" ?>\\n<!DOCTYPE eSearchResult PUBLIC \"-//NLM//DTD esearch 20060628//EN\" \"https://eutils.ncbi.nlm.nih.gov/eutils/dtd/20060628/esearch.dtd\">\\n<eSearchResult><Count>16</Count><RetMax>16</RetMax><RetStart>0</RetStart><IdList>\\n<Id>2462548712</Id>\\n<Id>2462548710</Id>\\n<Id>2462548708</Id>\\n<Id>2194972954</Id>\\n<Id>568815582</Id>\\n<Id>2217305747</Id>\\n<Id>2217305745</Id>\\n<Id>2217305743</Id>\\n<Id>1676355513</Id>\\n<Id>1676319656</Id>\\n<Id>1519312966</Id>\\n<Id>74273666</Id>\\n<Id>74230029</Id>\\n<Id>33874733</Id>\\n<Id>39754980</Id>\\n<Id>307685420</Id>\\n</IdList><TranslationSet><Translation>     <From>human[Organism]</From>     <To>\"Homo sapiens\"[Organism]</To>    </Translation></TranslationSet><TranslationStack>   <TermSet>    <Term>GSPT1[Gene]</Term>    <Field>Gene</Field>    <Count>2371</Count>    <Explode>N</Explode>   </TermSet>   <TermSet>    <Term>\"Homo sapiens\"[Organism]</Term>    <Field>Organism</Field>    <Count>28634568</Count>    <Explode>Y</Explode>   </TermSet>   <OP>AND</OP>  </TranslationStack><QueryTranslation>GSPT1[Gene] AND \"Homo sapiens\"[Organism]</QueryTranslation></eSearchResult>\\n'\n"
          ]
        }
      ],
      "source": [
        "from Bio import Entrez\n",
        "\n",
        "def fetch_sequences_xml(gene_name, organism, email):\n",
        "    Entrez.email = 'safronycheva@scamt-itmo.ru'  # Укажите свой email\n",
        "    handle = Entrez.esearch(db=\"nucleotide\", term=f\"{gene_name}[Gene] AND {organism}[Organism]\", retmode=\"xml\")\n",
        "    result = handle.read()\n",
        "    handle.close()\n",
        "    return result\n",
        "\n",
        "# Пример вызова функции:\n",
        "xml_data = fetch_sequences_xml(\"GSPT1\", \"human\", \"safronycheva@scamt-itmo.ru\")\n",
        "print(xml_data)\n",
        "\n"
      ]
    },
    {
      "cell_type": "markdown",
      "source": [
        "2. Запрос UID, Accession number и длины последовательности:"
      ],
      "metadata": {
        "id": "EUlGxirjbsdr"
      }
    },
    {
      "cell_type": "code",
      "source": [
        "from Bio import Entrez\n",
        "\n",
        "def fetch_sequences_table(gene_name, organism, email):\n",
        "    Entrez.email = 'safronycheva@scamt-itmo.ru'\n",
        "    handle = Entrez.esearch(db=\"nucleotide\", term=f\"{gene_name}[Gene] AND {organism}[Organism]\", retmax=100)\n",
        "    record = Entrez.read(handle)\n",
        "    handle.close()\n",
        "\n",
        "    ids = record[\"IdList\"]\n",
        "    handle = Entrez.efetch(db=\"nucleotide\", id=ids, rettype=\"gb\", retmode=\"xml\")\n",
        "    records = Entrez.read(handle)\n",
        "    handle.close()\n",
        "\n",
        "    table = []\n",
        "    for record in records:\n",
        "        uid = record['GBSeq_primary-accession']\n",
        "        accession = record['GBSeq_locus']\n",
        "        length = record['GBSeq_length']\n",
        "        table.append([uid, accession, length])\n",
        "\n",
        "    return table\n",
        "\n",
        "# Пример вызова функции:\n",
        "sequences_table = fetch_sequences_table(\"GSPT1\", \"human\", 'safronycheva@scamt-itmo.ru')\n",
        "for row in sequences_table:\n",
        "    print(row)\n",
        ""
      ],
      "metadata": {
        "colab": {
          "base_uri": "https://localhost:8080/"
        },
        "id": "Bx_avRMibsrs",
        "outputId": "3301de0c-ae03-4b09-a48a-53a49a1aab33"
      },
      "execution_count": 9,
      "outputs": [
        {
          "output_type": "stream",
          "name": "stdout",
          "text": [
            "['XM_054380181', 'XM_054380181', '6776']\n",
            "['XM_054380180', 'XM_054380180', '6774']\n",
            "['XM_054380179', 'XM_054380179', '7310']\n",
            "['NC_060940', 'NC_060940', '96330374']\n",
            "['NC_000016', 'NC_000016', '90338345']\n",
            "['XM_047434035', 'XM_047434035', '6774']\n",
            "['XM_047434034', 'XM_047434034', '6772']\n",
            "['XM_047434033', 'XM_047434033', '7310']\n",
            "['NM_001130006', 'NM_001130006', '7138']\n",
            "['NM_001130007', 'NM_001130007', '7166']\n",
            "['NM_002094', 'NM_002094', '7141']\n",
            "['CM000267', 'CM000267', '75226909']\n",
            "['CH471112', 'CH471112', '14690834']\n",
            "['BC009503', 'BC009503', '2523']\n",
            "['AY398991', 'AY398991', '1562']\n",
            "['AB590486', 'AB590486', '1919']\n"
          ]
        }
      ]
    },
    {
      "cell_type": "markdown",
      "source": [
        "3. Запрос нуклеотидных последовательностей и запись их в файл в формате FASTA:"
      ],
      "metadata": {
        "id": "lX98iSiCb0nL"
      }
    },
    {
      "cell_type": "code",
      "source": [
        "from Bio import Entrez, SeqIO\n",
        "\n",
        "def fetch_sequences_fasta(gene_name, organism, email, output_file):\n",
        "    Entrez.email = \"safronycheva@scamt-itmo.ru\"\n",
        "    handle = Entrez.esearch(db=\"nucleotide\", term=f\"{gene_name}[Gene] AND {organism}[Organism]\", retmax=100)\n",
        "    record = Entrez.read(handle)\n",
        "    handle.close()\n",
        "\n",
        "    ids = record[\"IdList\"]\n",
        "    handle = Entrez.efetch(db=\"nucleotide\", id=ids, rettype=\"fasta\", retmode=\"text\")\n",
        "    fasta_sequences = handle.read()\n",
        "    handle.close()\n",
        "\n",
        "    with open(output_file, \"w\") as file:\n",
        "        file.write(fasta_sequences)\n",
        "\n",
        "# Пример вызова функции:\n",
        "fetch_sequences_fasta(\"GSPT1\", \"human\", \"safronycheva@scamt-itmo.ru\", \"sequences.fasta\")\n"
      ],
      "metadata": {
        "id": "lkbel-NtbzuD"
      },
      "execution_count": 8,
      "outputs": []
    },
    {
      "cell_type": "markdown",
      "source": [
        "4. Скачивание всех последовательностей из работы по PMID:"
      ],
      "metadata": {
        "id": "ZhTx1oglb5HG"
      }
    },
    {
      "cell_type": "code",
      "source": [
        "from Bio import Entrez\n",
        "\n",
        "def fetch_sequences_by_pmid(pmid, email):\n",
        "    Entrez.email = \"safronycheva@scamt-itmo.ru\"\n",
        "    handle = Entrez.elink(dbfrom=\"pubmed\", db=\"nucleotide\", id=pmid)\n",
        "    record = Entrez.read(handle)\n",
        "    handle.close()\n",
        "\n",
        "    ids = [link[\"Id\"] for link in record[0][\"LinkSetDb\"][0][\"Link\"]]\n",
        "    handle = Entrez.efetch(db=\"nucleotide\", id=ids, rettype=\"fasta\", retmode=\"text\")\n",
        "    fasta_sequences = handle.read()\n",
        "    handle.close()\n",
        "\n",
        "    return fasta_sequences\n",
        "\n",
        "# Пример вызова функции:\n",
        "fasta_data = fetch_sequences_by_pmid(\"12890024\", \"safronycheva@scamt-itmo.ru\")\n",
        "print(fasta_data)\n"
      ],
      "metadata": {
        "id": "XKpAC0i5b5Vz"
      },
      "execution_count": null,
      "outputs": []
    }
  ]
}
